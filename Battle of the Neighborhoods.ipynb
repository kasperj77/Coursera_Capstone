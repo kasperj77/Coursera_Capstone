{
 "cells": [
  {
   "cell_type": "markdown",
   "metadata": {},
   "source": [
    "## Introduction\n",
    "\n",
    "Jordan and his brother wants to open their own game or \"nerd\" shop in some Locality (District) of Vancouver, WA.  They need to know what would be the best location to open one up so they are not to close to other similar buisness and are also still close enough to people."
   ]
  },
  {
   "cell_type": "markdown",
   "metadata": {},
   "source": [
    "## Business Problem \n",
    "\n",
    "In order to open Kasper's Gaming Palace, we will have the need to use some information about the Localities in Vancouver.\n",
    "We must be sure that the place where the game shop is opened will have enough customers and also that there aren't a large ammount of shops nearby.\n"
   ]
  },
  {
   "cell_type": "markdown",
   "metadata": {},
   "source": [
    "## Data\n",
    "\n",
    "The cities we will be analysing in this project are : Vancouver, WA.\n",
    "\n",
    "We will be using the below datasets for analysing Vancouver.\n",
    "\n",
    "- The Localities of Portland, Oregon from Wikipedia: \n",
    "https://en.wikipedia.org/wiki/Portland,_Oregon\n",
    "\n",
    "- The coordinates (latitude, longitude) of these Localities of Portland, OR from Open Street Map APIs\n",
    "\n",
    "- From Foursquare we will need following venues data:\n",
    "  - the games shope venues of the Localities\n",
    "  - the high schools venues of the Localities\n",
    "  - the universities venues of the Localities\n",
    "\n",
    "We will then leverage the data in order to determine which locality is the most appropriate in order to locate the game shop. \n",
    "\n",
    "\n"
   ]
  },
  {
   "cell_type": "code",
   "execution_count": null,
   "metadata": {},
   "outputs": [],
   "source": []
  }
 ],
 "metadata": {
  "kernelspec": {
   "display_name": "Python 3",
   "language": "python",
   "name": "python3"
  },
  "language_info": {
   "codemirror_mode": {
    "name": "ipython",
    "version": 3
   },
   "file_extension": ".py",
   "mimetype": "text/x-python",
   "name": "python",
   "nbconvert_exporter": "python",
   "pygments_lexer": "ipython3",
   "version": "3.6.5"
  }
 },
 "nbformat": 4,
 "nbformat_minor": 2
}
